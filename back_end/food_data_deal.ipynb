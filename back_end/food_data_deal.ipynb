{
 "cells": [
  {
   "cell_type": "code",
   "execution_count": 2,
   "metadata": {},
   "outputs": [
    {
     "name": "stdout",
     "output_type": "stream",
     "text": [
      "200\n"
     ]
    }
   ],
   "source": [
    "import requests\n",
    "import json\n",
    "import pandas as pd\n",
    "\n",
    "foodName = 'Cheddar cheese'\n",
    "apiKey = 'JkdjMHjQobEeEAVSkii5eg1n5NtTKH0AAL0FgXBb'\n",
    "\n",
    "url = f'https://api.nal.usda.gov/fdc/v1/foods/search?api_key={apiKey}&query={foodName}'\n",
    "res = requests.get(url)\n",
    "print(res.status_code)\n",
    "\n"
   ]
  },
  {
   "cell_type": "code",
   "execution_count": 1,
   "metadata": {},
   "outputs": [
    {
     "ename": "NotSupportedError",
     "evalue": "Authentication plugin 'caching_sha2_password' is not supported",
     "output_type": "error",
     "traceback": [
      "\u001b[1;31m---------------------------------------------------------------------------\u001b[0m",
      "\u001b[1;31mNotSupportedError\u001b[0m                         Traceback (most recent call last)",
      "\u001b[1;32m~\\AppData\\Local\\Temp/ipykernel_11412/4064642417.py\u001b[0m in \u001b[0;36m<module>\u001b[1;34m\u001b[0m\n\u001b[0;32m      1\u001b[0m \u001b[1;32mimport\u001b[0m \u001b[0mmysql\u001b[0m\u001b[1;33m.\u001b[0m\u001b[0mconnector\u001b[0m \u001b[1;32mas\u001b[0m \u001b[0mmysqlConnector\u001b[0m\u001b[1;33m\u001b[0m\u001b[1;33m\u001b[0m\u001b[0m\n\u001b[1;32m----> 2\u001b[1;33m \u001b[0mconn\u001b[0m \u001b[1;33m=\u001b[0m \u001b[0mmysqlConnector\u001b[0m\u001b[1;33m.\u001b[0m\u001b[0mconnect\u001b[0m\u001b[1;33m(\u001b[0m\u001b[0mhost\u001b[0m\u001b[1;33m=\u001b[0m\u001b[1;34m'localhost'\u001b[0m\u001b[1;33m,\u001b[0m\u001b[0muser\u001b[0m\u001b[1;33m=\u001b[0m\u001b[1;34m'root'\u001b[0m\u001b[1;33m,\u001b[0m\u001b[0mpasswd\u001b[0m\u001b[1;33m=\u001b[0m\u001b[1;34m'root'\u001b[0m\u001b[1;33m,\u001b[0m\u001b[0mdatabase\u001b[0m\u001b[1;33m=\u001b[0m\u001b[1;34m'cse'\u001b[0m\u001b[1;33m)\u001b[0m\u001b[1;33m\u001b[0m\u001b[1;33m\u001b[0m\u001b[0m\n\u001b[0m\u001b[0;32m      3\u001b[0m \u001b[1;32mif\u001b[0m \u001b[0mconn\u001b[0m\u001b[1;33m:\u001b[0m\u001b[0mprint\u001b[0m\u001b[1;33m(\u001b[0m\u001b[1;34m\"Connection Successful :)\"\u001b[0m\u001b[1;33m)\u001b[0m\u001b[1;33m\u001b[0m\u001b[1;33m\u001b[0m\u001b[0m\n\u001b[0;32m      4\u001b[0m \u001b[1;32melse\u001b[0m\u001b[1;33m:\u001b[0m\u001b[0mprint\u001b[0m\u001b[1;33m(\u001b[0m\u001b[1;34m\"Connection Failed :(\"\u001b[0m\u001b[1;33m)\u001b[0m\u001b[1;33m\u001b[0m\u001b[1;33m\u001b[0m\u001b[0m\n\u001b[0;32m      5\u001b[0m \u001b[0mcur\u001b[0m \u001b[1;33m=\u001b[0m \u001b[0mconn\u001b[0m\u001b[1;33m.\u001b[0m\u001b[0mcursor\u001b[0m\u001b[1;33m(\u001b[0m\u001b[1;33m)\u001b[0m\u001b[1;33m\u001b[0m\u001b[1;33m\u001b[0m\u001b[0m\n",
      "\u001b[1;32m~\\AppData\\Local\\Programs\\Python\\Python310\\lib\\site-packages\\mysql\\connector\\__init__.py\u001b[0m in \u001b[0;36mconnect\u001b[1;34m(*args, **kwargs)\u001b[0m\n\u001b[0;32m    177\u001b[0m         \u001b[1;32mreturn\u001b[0m \u001b[0mCMySQLConnection\u001b[0m\u001b[1;33m(\u001b[0m\u001b[1;33m*\u001b[0m\u001b[0margs\u001b[0m\u001b[1;33m,\u001b[0m \u001b[1;33m**\u001b[0m\u001b[0mkwargs\u001b[0m\u001b[1;33m)\u001b[0m\u001b[1;33m\u001b[0m\u001b[1;33m\u001b[0m\u001b[0m\n\u001b[0;32m    178\u001b[0m     \u001b[1;32melse\u001b[0m\u001b[1;33m:\u001b[0m\u001b[1;33m\u001b[0m\u001b[1;33m\u001b[0m\u001b[0m\n\u001b[1;32m--> 179\u001b[1;33m         \u001b[1;32mreturn\u001b[0m \u001b[0mMySQLConnection\u001b[0m\u001b[1;33m(\u001b[0m\u001b[1;33m*\u001b[0m\u001b[0margs\u001b[0m\u001b[1;33m,\u001b[0m \u001b[1;33m**\u001b[0m\u001b[0mkwargs\u001b[0m\u001b[1;33m)\u001b[0m\u001b[1;33m\u001b[0m\u001b[1;33m\u001b[0m\u001b[0m\n\u001b[0m\u001b[0;32m    180\u001b[0m \u001b[0mConnect\u001b[0m \u001b[1;33m=\u001b[0m \u001b[0mconnect\u001b[0m  \u001b[1;31m# pylint: disable=C0103\u001b[0m\u001b[1;33m\u001b[0m\u001b[1;33m\u001b[0m\u001b[0m\n\u001b[0;32m    181\u001b[0m \u001b[1;33m\u001b[0m\u001b[0m\n",
      "\u001b[1;32m~\\AppData\\Local\\Programs\\Python\\Python310\\lib\\site-packages\\mysql\\connector\\connection.py\u001b[0m in \u001b[0;36m__init__\u001b[1;34m(self, *args, **kwargs)\u001b[0m\n\u001b[0;32m     93\u001b[0m \u001b[1;33m\u001b[0m\u001b[0m\n\u001b[0;32m     94\u001b[0m         \u001b[1;32mif\u001b[0m \u001b[0mlen\u001b[0m\u001b[1;33m(\u001b[0m\u001b[0mkwargs\u001b[0m\u001b[1;33m)\u001b[0m \u001b[1;33m>\u001b[0m \u001b[1;36m0\u001b[0m\u001b[1;33m:\u001b[0m\u001b[1;33m\u001b[0m\u001b[1;33m\u001b[0m\u001b[0m\n\u001b[1;32m---> 95\u001b[1;33m             \u001b[0mself\u001b[0m\u001b[1;33m.\u001b[0m\u001b[0mconnect\u001b[0m\u001b[1;33m(\u001b[0m\u001b[1;33m**\u001b[0m\u001b[0mkwargs\u001b[0m\u001b[1;33m)\u001b[0m\u001b[1;33m\u001b[0m\u001b[1;33m\u001b[0m\u001b[0m\n\u001b[0m\u001b[0;32m     96\u001b[0m \u001b[1;33m\u001b[0m\u001b[0m\n\u001b[0;32m     97\u001b[0m     \u001b[1;32mdef\u001b[0m \u001b[0m_do_handshake\u001b[0m\u001b[1;33m(\u001b[0m\u001b[0mself\u001b[0m\u001b[1;33m)\u001b[0m\u001b[1;33m:\u001b[0m\u001b[1;33m\u001b[0m\u001b[1;33m\u001b[0m\u001b[0m\n",
      "\u001b[1;32m~\\AppData\\Local\\Programs\\Python\\Python310\\lib\\site-packages\\mysql\\connector\\abstracts.py\u001b[0m in \u001b[0;36mconnect\u001b[1;34m(self, **kwargs)\u001b[0m\n\u001b[0;32m    714\u001b[0m \u001b[1;33m\u001b[0m\u001b[0m\n\u001b[0;32m    715\u001b[0m         \u001b[0mself\u001b[0m\u001b[1;33m.\u001b[0m\u001b[0mdisconnect\u001b[0m\u001b[1;33m(\u001b[0m\u001b[1;33m)\u001b[0m\u001b[1;33m\u001b[0m\u001b[1;33m\u001b[0m\u001b[0m\n\u001b[1;32m--> 716\u001b[1;33m         \u001b[0mself\u001b[0m\u001b[1;33m.\u001b[0m\u001b[0m_open_connection\u001b[0m\u001b[1;33m(\u001b[0m\u001b[1;33m)\u001b[0m\u001b[1;33m\u001b[0m\u001b[1;33m\u001b[0m\u001b[0m\n\u001b[0m\u001b[0;32m    717\u001b[0m         \u001b[0mself\u001b[0m\u001b[1;33m.\u001b[0m\u001b[0m_post_connection\u001b[0m\u001b[1;33m(\u001b[0m\u001b[1;33m)\u001b[0m\u001b[1;33m\u001b[0m\u001b[1;33m\u001b[0m\u001b[0m\n\u001b[0;32m    718\u001b[0m \u001b[1;33m\u001b[0m\u001b[0m\n",
      "\u001b[1;32m~\\AppData\\Local\\Programs\\Python\\Python310\\lib\\site-packages\\mysql\\connector\\connection.py\u001b[0m in \u001b[0;36m_open_connection\u001b[1;34m(self)\u001b[0m\n\u001b[0;32m    206\u001b[0m         \u001b[0mself\u001b[0m\u001b[1;33m.\u001b[0m\u001b[0m_socket\u001b[0m\u001b[1;33m.\u001b[0m\u001b[0mopen_connection\u001b[0m\u001b[1;33m(\u001b[0m\u001b[1;33m)\u001b[0m\u001b[1;33m\u001b[0m\u001b[1;33m\u001b[0m\u001b[0m\n\u001b[0;32m    207\u001b[0m         \u001b[0mself\u001b[0m\u001b[1;33m.\u001b[0m\u001b[0m_do_handshake\u001b[0m\u001b[1;33m(\u001b[0m\u001b[1;33m)\u001b[0m\u001b[1;33m\u001b[0m\u001b[1;33m\u001b[0m\u001b[0m\n\u001b[1;32m--> 208\u001b[1;33m         self._do_auth(self._user, self._password,\n\u001b[0m\u001b[0;32m    209\u001b[0m                       \u001b[0mself\u001b[0m\u001b[1;33m.\u001b[0m\u001b[0m_database\u001b[0m\u001b[1;33m,\u001b[0m \u001b[0mself\u001b[0m\u001b[1;33m.\u001b[0m\u001b[0m_client_flags\u001b[0m\u001b[1;33m,\u001b[0m \u001b[0mself\u001b[0m\u001b[1;33m.\u001b[0m\u001b[0m_charset_id\u001b[0m\u001b[1;33m,\u001b[0m\u001b[1;33m\u001b[0m\u001b[1;33m\u001b[0m\u001b[0m\n\u001b[0;32m    210\u001b[0m                       self._ssl)\n",
      "\u001b[1;32m~\\AppData\\Local\\Programs\\Python\\Python310\\lib\\site-packages\\mysql\\connector\\connection.py\u001b[0m in \u001b[0;36m_do_auth\u001b[1;34m(self, username, password, database, client_flags, charset, ssl_options)\u001b[0m\n\u001b[0;32m    135\u001b[0m             \u001b[0mself\u001b[0m\u001b[1;33m.\u001b[0m\u001b[0m_ssl_active\u001b[0m \u001b[1;33m=\u001b[0m \u001b[1;32mTrue\u001b[0m\u001b[1;33m\u001b[0m\u001b[1;33m\u001b[0m\u001b[0m\n\u001b[0;32m    136\u001b[0m \u001b[1;33m\u001b[0m\u001b[0m\n\u001b[1;32m--> 137\u001b[1;33m         packet = self._protocol.make_auth(\n\u001b[0m\u001b[0;32m    138\u001b[0m             \u001b[0mhandshake\u001b[0m\u001b[1;33m=\u001b[0m\u001b[0mself\u001b[0m\u001b[1;33m.\u001b[0m\u001b[0m_handshake\u001b[0m\u001b[1;33m,\u001b[0m\u001b[1;33m\u001b[0m\u001b[1;33m\u001b[0m\u001b[0m\n\u001b[0;32m    139\u001b[0m             \u001b[0musername\u001b[0m\u001b[1;33m=\u001b[0m\u001b[0musername\u001b[0m\u001b[1;33m,\u001b[0m \u001b[0mpassword\u001b[0m\u001b[1;33m=\u001b[0m\u001b[0mpassword\u001b[0m\u001b[1;33m,\u001b[0m \u001b[0mdatabase\u001b[0m\u001b[1;33m=\u001b[0m\u001b[0mdatabase\u001b[0m\u001b[1;33m,\u001b[0m\u001b[1;33m\u001b[0m\u001b[1;33m\u001b[0m\u001b[0m\n",
      "\u001b[1;32m~\\AppData\\Local\\Programs\\Python\\Python310\\lib\\site-packages\\mysql\\connector\\protocol.py\u001b[0m in \u001b[0;36mmake_auth\u001b[1;34m(self, handshake, username, password, database, charset, client_flags, max_allowed_packet, ssl_enabled, auth_plugin)\u001b[0m\n\u001b[0;32m     97\u001b[0m                              username_bytes)\n\u001b[0;32m     98\u001b[0m \u001b[1;33m\u001b[0m\u001b[0m\n\u001b[1;32m---> 99\u001b[1;33m         packet += self._auth_response(client_flags, username, password,\n\u001b[0m\u001b[0;32m    100\u001b[0m                                       \u001b[0mdatabase\u001b[0m\u001b[1;33m,\u001b[0m\u001b[1;33m\u001b[0m\u001b[1;33m\u001b[0m\u001b[0m\n\u001b[0;32m    101\u001b[0m                                       \u001b[0mauth_plugin\u001b[0m\u001b[1;33m,\u001b[0m\u001b[1;33m\u001b[0m\u001b[1;33m\u001b[0m\u001b[0m\n",
      "\u001b[1;32m~\\AppData\\Local\\Programs\\Python\\Python310\\lib\\site-packages\\mysql\\connector\\protocol.py\u001b[0m in \u001b[0;36m_auth_response\u001b[1;34m(self, client_flags, username, password, database, auth_plugin, auth_data, ssl_enabled)\u001b[0m\n\u001b[0;32m     56\u001b[0m \u001b[1;33m\u001b[0m\u001b[0m\n\u001b[0;32m     57\u001b[0m         \u001b[1;32mtry\u001b[0m\u001b[1;33m:\u001b[0m\u001b[1;33m\u001b[0m\u001b[1;33m\u001b[0m\u001b[0m\n\u001b[1;32m---> 58\u001b[1;33m             auth = get_auth_plugin(auth_plugin)(\n\u001b[0m\u001b[0;32m     59\u001b[0m                 \u001b[0mauth_data\u001b[0m\u001b[1;33m,\u001b[0m\u001b[1;33m\u001b[0m\u001b[1;33m\u001b[0m\u001b[0m\n\u001b[0;32m     60\u001b[0m                 \u001b[0musername\u001b[0m\u001b[1;33m=\u001b[0m\u001b[0musername\u001b[0m\u001b[1;33m,\u001b[0m \u001b[0mpassword\u001b[0m\u001b[1;33m=\u001b[0m\u001b[0mpassword\u001b[0m\u001b[1;33m,\u001b[0m \u001b[0mdatabase\u001b[0m\u001b[1;33m=\u001b[0m\u001b[0mdatabase\u001b[0m\u001b[1;33m,\u001b[0m\u001b[1;33m\u001b[0m\u001b[1;33m\u001b[0m\u001b[0m\n",
      "\u001b[1;32m~\\AppData\\Local\\Programs\\Python\\Python310\\lib\\site-packages\\mysql\\connector\\authentication.py\u001b[0m in \u001b[0;36mget_auth_plugin\u001b[1;34m(plugin_name)\u001b[0m\n\u001b[0;32m    188\u001b[0m             \u001b[1;32mreturn\u001b[0m \u001b[0mauthclass\u001b[0m\u001b[1;33m\u001b[0m\u001b[1;33m\u001b[0m\u001b[0m\n\u001b[0;32m    189\u001b[0m \u001b[1;33m\u001b[0m\u001b[0m\n\u001b[1;32m--> 190\u001b[1;33m     raise errors.NotSupportedError(\n\u001b[0m\u001b[0;32m    191\u001b[0m         \"Authentication plugin '{0}' is not supported\".format(plugin_name))\n",
      "\u001b[1;31mNotSupportedError\u001b[0m: Authentication plugin 'caching_sha2_password' is not supported"
     ]
    }
   ],
   "source": [
    "import mysql.connector as mysqlConnector\n",
    "conn = mysqlConnector.connect()\n",
    "if conn:print(\"Connection Successful :)\")\n",
    "else:print(\"Connection Failed :(\")\n",
    "cur = conn.cursor()\n",
    "try:\n",
    "    cur.execute(\"select * from students\")\n",
    "    print(\"Query Executed Successfully !!!\")\n",
    "    for row in cur:\n",
    "        print(row)\n",
    "except Exception as e:\n",
    "    print(\"Invalid Query\")\n",
    "    print(e)\n",
    "conn.close()"
   ]
  },
  {
   "cell_type": "code",
   "execution_count": null,
   "metadata": {},
   "outputs": [],
   "source": []
  },
  {
   "cell_type": "code",
   "execution_count": 3,
   "metadata": {},
   "outputs": [],
   "source": [
    "from unittest import result\n",
    "from flask import Flask,make_response,json,render_template,request,redirect,url_for\n",
    "import json\n",
    "import get_food_nutrient\n",
    "import csv"
   ]
  },
  {
   "cell_type": "code",
   "execution_count": 4,
   "metadata": {},
   "outputs": [],
   "source": [
    "with open('USER_INFO\\\\USER_BASE_INFO.CSV', mode='r') as inp:\n",
    "    reader = csv.reader(inp)\n",
    "    user_info = [rows for rows in reader if rows[1]==\"GW\" or rows[0]=='info_id']"
   ]
  },
  {
   "cell_type": "code",
   "execution_count": 5,
   "metadata": {},
   "outputs": [
    {
     "data": {
      "text/plain": [
       "[['info_id',\n",
       "  'user_id',\n",
       "  'name',\n",
       "  'hight',\n",
       "  'weight',\n",
       "  'fat_rate',\n",
       "  'age',\n",
       "  'gender',\n",
       "  'daily_cal',\n",
       "  'date']]"
      ]
     },
     "execution_count": 5,
     "metadata": {},
     "output_type": "execute_result"
    }
   ],
   "source": [
    "user_info"
   ]
  },
  {
   "cell_type": "code",
   "execution_count": 6,
   "metadata": {},
   "outputs": [],
   "source": [
    "response = res.json()"
   ]
  },
  {
   "cell_type": "code",
   "execution_count": 7,
   "metadata": {},
   "outputs": [
    {
     "data": {
      "text/plain": [
       "dict"
      ]
     },
     "execution_count": 7,
     "metadata": {},
     "output_type": "execute_result"
    }
   ],
   "source": [
    "type(response)"
   ]
  },
  {
   "cell_type": "code",
   "execution_count": 8,
   "metadata": {},
   "outputs": [
    {
     "data": {
      "text/plain": [
       "{'fdcId': 2015943,\n",
       " 'description': 'CHEDDAR CHEESE',\n",
       " 'lowercaseDescription': 'cheddar cheese',\n",
       " 'dataType': 'Branded',\n",
       " 'gtinUpc': '75925306223',\n",
       " 'publishedDate': '2021-10-28',\n",
       " 'brandOwner': 'Three Square Inc.',\n",
       " 'brandName': 'CRYSTAL FARMS',\n",
       " 'ingredients': 'CHEDDAR CHEESE (PASTEURIZED MILK, CHEESE CULTURE, SALT, ENZYMES, ANNATTO COLOR), POTATO STARCH, STARCH AND CELLULOSE POWDER TO PREVENT CAKING, NATAMYCIN (MOLD INHIBITOR).',\n",
       " 'marketCountry': 'United States',\n",
       " 'foodCategory': 'Cheese',\n",
       " 'modifiedDate': '2021-02-25',\n",
       " 'dataSource': 'LI',\n",
       " 'packageWeight': '8 oz/226 g',\n",
       " 'servingSizeUnit': 'g',\n",
       " 'servingSize': 28.0,\n",
       " 'allHighlightFields': '<b>Ingredients</b>: <em>CHEDDAR</em> <em>CHEESE</em> (PASTEURIZED MILK, <em>CHEESE</em> CULTURE, SALT, ENZYMES, ANNATTO COLOR), POTATO STARCH',\n",
       " 'score': 865.8816,\n",
       " 'foodNutrients': [{'nutrientId': 1003,\n",
       "   'nutrientName': 'Protein',\n",
       "   'nutrientNumber': '203',\n",
       "   'unitName': 'G',\n",
       "   'derivationCode': 'LCCS',\n",
       "   'derivationDescription': 'Calculated from value per serving size measure',\n",
       "   'derivationId': 70,\n",
       "   'value': 25.0,\n",
       "   'foodNutrientSourceId': 9,\n",
       "   'foodNutrientSourceCode': '12',\n",
       "   'foodNutrientSourceDescription': \"Manufacturer's analytical; partial documentation\",\n",
       "   'rank': 600,\n",
       "   'indentLevel': 1,\n",
       "   'foodNutrientId': 25939750},\n",
       "  {'nutrientId': 1004,\n",
       "   'nutrientName': 'Total lipid (fat)',\n",
       "   'nutrientNumber': '204',\n",
       "   'unitName': 'G',\n",
       "   'derivationCode': 'LCCS',\n",
       "   'derivationDescription': 'Calculated from value per serving size measure',\n",
       "   'derivationId': 70,\n",
       "   'value': 32.1,\n",
       "   'foodNutrientSourceId': 9,\n",
       "   'foodNutrientSourceCode': '12',\n",
       "   'foodNutrientSourceDescription': \"Manufacturer's analytical; partial documentation\",\n",
       "   'rank': 800,\n",
       "   'indentLevel': 1,\n",
       "   'foodNutrientId': 25939751,\n",
       "   'percentDailyValue': 14},\n",
       "  {'nutrientId': 1005,\n",
       "   'nutrientName': 'Carbohydrate, by difference',\n",
       "   'nutrientNumber': '205',\n",
       "   'unitName': 'G',\n",
       "   'derivationCode': 'LCCS',\n",
       "   'derivationDescription': 'Calculated from value per serving size measure',\n",
       "   'derivationId': 70,\n",
       "   'value': 3.57,\n",
       "   'foodNutrientSourceId': 9,\n",
       "   'foodNutrientSourceCode': '12',\n",
       "   'foodNutrientSourceDescription': \"Manufacturer's analytical; partial documentation\",\n",
       "   'rank': 1110,\n",
       "   'indentLevel': 2,\n",
       "   'foodNutrientId': 25939752,\n",
       "   'percentDailyValue': 0},\n",
       "  {'nutrientId': 1008,\n",
       "   'nutrientName': 'Energy',\n",
       "   'nutrientNumber': '208',\n",
       "   'unitName': 'KCAL',\n",
       "   'derivationCode': 'LCCS',\n",
       "   'derivationDescription': 'Calculated from value per serving size measure',\n",
       "   'derivationId': 70,\n",
       "   'value': 393,\n",
       "   'foodNutrientSourceId': 9,\n",
       "   'foodNutrientSourceCode': '12',\n",
       "   'foodNutrientSourceDescription': \"Manufacturer's analytical; partial documentation\",\n",
       "   'rank': 300,\n",
       "   'indentLevel': 1,\n",
       "   'foodNutrientId': 25939753},\n",
       "  {'nutrientId': 2000,\n",
       "   'nutrientName': 'Sugars, total including NLEA',\n",
       "   'nutrientNumber': '269',\n",
       "   'unitName': 'G',\n",
       "   'derivationCode': 'LCCS',\n",
       "   'derivationDescription': 'Calculated from value per serving size measure',\n",
       "   'derivationId': 70,\n",
       "   'value': 0.0,\n",
       "   'foodNutrientSourceId': 9,\n",
       "   'foodNutrientSourceCode': '12',\n",
       "   'foodNutrientSourceDescription': \"Manufacturer's analytical; partial documentation\",\n",
       "   'rank': 1510,\n",
       "   'indentLevel': 3,\n",
       "   'foodNutrientId': 25939754},\n",
       "  {'nutrientId': 1079,\n",
       "   'nutrientName': 'Fiber, total dietary',\n",
       "   'nutrientNumber': '291',\n",
       "   'unitName': 'G',\n",
       "   'derivationCode': 'LCCD',\n",
       "   'derivationDescription': 'Calculated from a daily value percentage per serving size measure',\n",
       "   'derivationId': 75,\n",
       "   'value': 0.0,\n",
       "   'foodNutrientSourceId': 9,\n",
       "   'foodNutrientSourceCode': '12',\n",
       "   'foodNutrientSourceDescription': \"Manufacturer's analytical; partial documentation\",\n",
       "   'rank': 1200,\n",
       "   'indentLevel': 3,\n",
       "   'foodNutrientId': 25939755,\n",
       "   'percentDailyValue': 0},\n",
       "  {'nutrientId': 1087,\n",
       "   'nutrientName': 'Calcium, Ca',\n",
       "   'nutrientNumber': '301',\n",
       "   'unitName': 'MG',\n",
       "   'derivationCode': 'LCCD',\n",
       "   'derivationDescription': 'Calculated from a daily value percentage per serving size measure',\n",
       "   'derivationId': 75,\n",
       "   'value': 714,\n",
       "   'foodNutrientSourceId': 9,\n",
       "   'foodNutrientSourceCode': '12',\n",
       "   'foodNutrientSourceDescription': \"Manufacturer's analytical; partial documentation\",\n",
       "   'rank': 5300,\n",
       "   'indentLevel': 1,\n",
       "   'foodNutrientId': 25939756,\n",
       "   'percentDailyValue': 20},\n",
       "  {'nutrientId': 1089,\n",
       "   'nutrientName': 'Iron, Fe',\n",
       "   'nutrientNumber': '303',\n",
       "   'unitName': 'MG',\n",
       "   'derivationCode': 'LCCD',\n",
       "   'derivationDescription': 'Calculated from a daily value percentage per serving size measure',\n",
       "   'derivationId': 75,\n",
       "   'value': 0.0,\n",
       "   'foodNutrientSourceId': 9,\n",
       "   'foodNutrientSourceCode': '12',\n",
       "   'foodNutrientSourceDescription': \"Manufacturer's analytical; partial documentation\",\n",
       "   'rank': 5400,\n",
       "   'indentLevel': 1,\n",
       "   'foodNutrientId': 25939757,\n",
       "   'percentDailyValue': 0},\n",
       "  {'nutrientId': 1093,\n",
       "   'nutrientName': 'Sodium, Na',\n",
       "   'nutrientNumber': '307',\n",
       "   'unitName': 'MG',\n",
       "   'derivationCode': 'LCCS',\n",
       "   'derivationDescription': 'Calculated from value per serving size measure',\n",
       "   'derivationId': 70,\n",
       "   'value': 607,\n",
       "   'foodNutrientSourceId': 9,\n",
       "   'foodNutrientSourceCode': '12',\n",
       "   'foodNutrientSourceDescription': \"Manufacturer's analytical; partial documentation\",\n",
       "   'rank': 5800,\n",
       "   'indentLevel': 1,\n",
       "   'foodNutrientId': 25939758,\n",
       "   'percentDailyValue': 7},\n",
       "  {'nutrientId': 1104,\n",
       "   'nutrientName': 'Vitamin A, IU',\n",
       "   'nutrientNumber': '318',\n",
       "   'unitName': 'IU',\n",
       "   'derivationCode': 'LCCD',\n",
       "   'derivationDescription': 'Calculated from a daily value percentage per serving size measure',\n",
       "   'derivationId': 75,\n",
       "   'value': 1070.0,\n",
       "   'foodNutrientSourceId': 9,\n",
       "   'foodNutrientSourceCode': '12',\n",
       "   'foodNutrientSourceDescription': \"Manufacturer's analytical; partial documentation\",\n",
       "   'rank': 7500,\n",
       "   'indentLevel': 1,\n",
       "   'foodNutrientId': 25939759,\n",
       "   'percentDailyValue': 6},\n",
       "  {'nutrientId': 1162,\n",
       "   'nutrientName': 'Vitamin C, total ascorbic acid',\n",
       "   'nutrientNumber': '401',\n",
       "   'unitName': 'MG',\n",
       "   'derivationCode': 'LCCD',\n",
       "   'derivationDescription': 'Calculated from a daily value percentage per serving size measure',\n",
       "   'derivationId': 75,\n",
       "   'value': 0.0,\n",
       "   'foodNutrientSourceId': 9,\n",
       "   'foodNutrientSourceCode': '12',\n",
       "   'foodNutrientSourceDescription': \"Manufacturer's analytical; partial documentation\",\n",
       "   'rank': 6300,\n",
       "   'indentLevel': 1,\n",
       "   'foodNutrientId': 25939760,\n",
       "   'percentDailyValue': 0},\n",
       "  {'nutrientId': 1253,\n",
       "   'nutrientName': 'Cholesterol',\n",
       "   'nutrientNumber': '601',\n",
       "   'unitName': 'MG',\n",
       "   'derivationCode': 'LCCS',\n",
       "   'derivationDescription': 'Calculated from value per serving size measure',\n",
       "   'derivationId': 70,\n",
       "   'value': 107,\n",
       "   'foodNutrientSourceId': 9,\n",
       "   'foodNutrientSourceCode': '12',\n",
       "   'foodNutrientSourceDescription': \"Manufacturer's analytical; partial documentation\",\n",
       "   'rank': 15700,\n",
       "   'indentLevel': 1,\n",
       "   'foodNutrientId': 25939761,\n",
       "   'percentDailyValue': 9},\n",
       "  {'nutrientId': 1257,\n",
       "   'nutrientName': 'Fatty acids, total trans',\n",
       "   'nutrientNumber': '605',\n",
       "   'unitName': 'G',\n",
       "   'derivationCode': 'LCCS',\n",
       "   'derivationDescription': 'Calculated from value per serving size measure',\n",
       "   'derivationId': 70,\n",
       "   'value': 0.0,\n",
       "   'foodNutrientSourceId': 9,\n",
       "   'foodNutrientSourceCode': '12',\n",
       "   'foodNutrientSourceDescription': \"Manufacturer's analytical; partial documentation\",\n",
       "   'rank': 15400,\n",
       "   'indentLevel': 1,\n",
       "   'foodNutrientId': 25939762},\n",
       "  {'nutrientId': 1258,\n",
       "   'nutrientName': 'Fatty acids, total saturated',\n",
       "   'nutrientNumber': '606',\n",
       "   'unitName': 'G',\n",
       "   'derivationCode': 'LCCS',\n",
       "   'derivationDescription': 'Calculated from value per serving size measure',\n",
       "   'derivationId': 70,\n",
       "   'value': 21.4,\n",
       "   'foodNutrientSourceId': 9,\n",
       "   'foodNutrientSourceCode': '12',\n",
       "   'foodNutrientSourceDescription': \"Manufacturer's analytical; partial documentation\",\n",
       "   'rank': 9700,\n",
       "   'indentLevel': 1,\n",
       "   'foodNutrientId': 25939763,\n",
       "   'percentDailyValue': 29}],\n",
       " 'finalFoodInputFoods': [],\n",
       " 'foodMeasures': [],\n",
       " 'foodAttributes': [],\n",
       " 'foodAttributeTypes': [],\n",
       " 'foodVersionIds': []}"
      ]
     },
     "execution_count": 8,
     "metadata": {},
     "output_type": "execute_result"
    }
   ],
   "source": [
    "response['foods'][0]"
   ]
  },
  {
   "cell_type": "code",
   "execution_count": 9,
   "metadata": {},
   "outputs": [
    {
     "data": {
      "text/plain": [
       "50"
      ]
     },
     "execution_count": 9,
     "metadata": {},
     "output_type": "execute_result"
    }
   ],
   "source": [
    "len(response['foods'])"
   ]
  },
  {
   "cell_type": "code",
   "execution_count": 21,
   "metadata": {},
   "outputs": [
    {
     "data": {
      "text/plain": [
       "2015943"
      ]
     },
     "execution_count": 21,
     "metadata": {},
     "output_type": "execute_result"
    }
   ],
   "source": [
    "fdcId = response['foods'][0]['fdcId']\n",
    "fdcId"
   ]
  },
  {
   "cell_type": "code",
   "execution_count": 22,
   "metadata": {},
   "outputs": [],
   "source": [
    "foodCategory = response['foods'][0]['foodCategory']"
   ]
  },
  {
   "cell_type": "code",
   "execution_count": 23,
   "metadata": {},
   "outputs": [
    {
     "data": {
      "text/plain": [
       "'Cheese'"
      ]
     },
     "execution_count": 23,
     "metadata": {},
     "output_type": "execute_result"
    }
   ],
   "source": [
    "foodCategory"
   ]
  },
  {
   "cell_type": "code",
   "execution_count": 24,
   "metadata": {},
   "outputs": [],
   "source": [
    "foodWeight = response['foods'][0]['packageWeight']"
   ]
  },
  {
   "cell_type": "code",
   "execution_count": 25,
   "metadata": {},
   "outputs": [],
   "source": [
    "protein = response['foods'][0]['foodNutrients'][0]['value']\n",
    "fat = response['foods'][0]['foodNutrients'][1]['value']\n",
    "carbohydrate = response['foods'][0]['foodNutrients'][2]['value']\n",
    "energy = response['foods'][0]['foodNutrients'][3]['value']\n",
    "sugre = response['foods'][0]['foodNutrients'][4]['value']\n",
    "vitamin_A = response['foods'][0]['foodNutrients'][9]['value']\n",
    "vitamin_C = response['foods'][0]['foodNutrients'][10]['value']"
   ]
  },
  {
   "cell_type": "code",
   "execution_count": 26,
   "metadata": {},
   "outputs": [],
   "source": [
    "foodDict = {\n",
    "    'Food Name': foodName,\n",
    "    'Food Category': foodCategory,\n",
    "    'Food Weight': foodWeight,\n",
    "    'Protein': protein,\n",
    "    'Fat':fat,\n",
    "    'Carbohydrate':carbohydrate,\n",
    "    'Energy':energy,\n",
    "    'Sugre':sugre,\n",
    "    'Vitamin_A':vitamin_A,\n",
    "    'Vitamin_C':vitamin_C\n",
    "}"
   ]
  },
  {
   "cell_type": "code",
   "execution_count": 27,
   "metadata": {},
   "outputs": [
    {
     "data": {
      "text/plain": [
       "{'Food Name': 'Cheddar cheese',\n",
       " 'Food Category': 'Cheese',\n",
       " 'Food Weight': '8 oz/226 g',\n",
       " 'Protein': 25.0,\n",
       " 'Fat': 32.1,\n",
       " 'Carbohydrate': 3.57,\n",
       " 'Energy': 393,\n",
       " 'Sugre': 0.0,\n",
       " 'Vitamin_A': 1070.0,\n",
       " 'Vitamin_C': 0.0}"
      ]
     },
     "execution_count": 27,
     "metadata": {},
     "output_type": "execute_result"
    }
   ],
   "source": [
    "foodDict"
   ]
  }
 ],
 "metadata": {
  "interpreter": {
   "hash": "2be5faf79681da6f2a61fdfdd5405d65d042280f7fba6178067603e3a2925119"
  },
  "kernelspec": {
   "display_name": "Python 3.10.2 64-bit",
   "language": "python",
   "name": "python3"
  },
  "language_info": {
   "codemirror_mode": {
    "name": "ipython",
    "version": 3
   },
   "file_extension": ".py",
   "mimetype": "text/x-python",
   "name": "python",
   "nbconvert_exporter": "python",
   "pygments_lexer": "ipython3",
   "version": "3.10.2"
  },
  "orig_nbformat": 4
 },
 "nbformat": 4,
 "nbformat_minor": 2
}
