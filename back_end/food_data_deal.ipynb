{
 "cells": [
  {
   "cell_type": "code",
   "execution_count": 2,
   "metadata": {},
   "outputs": [
    {
     "name": "stdout",
     "output_type": "stream",
     "text": [
      "200\n"
     ]
    }
   ],
   "source": [
    "import requests\n",
    "import json\n",
    "import pandas as pd\n",
    "\n",
    "foodName = 'Cheddar cheese'\n",
    "apiKey = 'JkdjMHjQobEeEAVSkii5eg1n5NtTKH0AAL0FgXBb'\n",
    "\n",
    "url = f'https://api.nal.usda.gov/fdc/v1/foods/search?api_key={apiKey}&query={foodName}'\n",
    "res = requests.get(url)\n",
    "print(res.status_code)\n",
    "\n"
   ]
  },
  {
   "cell_type": "code",
   "execution_count": null,
   "metadata": {},
   "outputs": [],
   "source": []
  },
  {
   "cell_type": "code",
   "execution_count": 3,
   "metadata": {},
   "outputs": [],
   "source": [
    "from unittest import result\n",
    "from flask import Flask,make_response,json,render_template,request,redirect,url_for\n",
    "import json\n",
    "import get_food_nutrient\n",
    "import csv"
   ]
  },
  {
   "cell_type": "code",
   "execution_count": 4,
   "metadata": {},
   "outputs": [],
   "source": [
    "with open('USER_INFO\\\\USER_BASE_INFO.CSV', mode='r') as inp:\n",
    "    reader = csv.reader(inp)\n",
    "    user_info = [rows for rows in reader if rows[1]==\"GW\" or rows[0]=='info_id']"
   ]
  },
  {
   "cell_type": "code",
   "execution_count": 5,
   "metadata": {},
   "outputs": [
    {
     "data": {
      "text/plain": [
       "[['info_id',\n",
       "  'user_id',\n",
       "  'name',\n",
       "  'hight',\n",
       "  'weight',\n",
       "  'fat_rate',\n",
       "  'age',\n",
       "  'gender',\n",
       "  'daily_cal',\n",
       "  'date']]"
      ]
     },
     "execution_count": 5,
     "metadata": {},
     "output_type": "execute_result"
    }
   ],
   "source": [
    "user_info"
   ]
  },
  {
   "cell_type": "code",
   "execution_count": 6,
   "metadata": {},
   "outputs": [],
   "source": [
    "response = res.json()"
   ]
  },
  {
   "cell_type": "code",
   "execution_count": 7,
   "metadata": {},
   "outputs": [
    {
     "data": {
      "text/plain": [
       "dict"
      ]
     },
     "execution_count": 7,
     "metadata": {},
     "output_type": "execute_result"
    }
   ],
   "source": [
    "type(response)"
   ]
  },
  {
   "cell_type": "code",
   "execution_count": 8,
   "metadata": {},
   "outputs": [
    {
     "data": {
      "text/plain": [
       "{'fdcId': 2015943,\n",
       " 'description': 'CHEDDAR CHEESE',\n",
       " 'lowercaseDescription': 'cheddar cheese',\n",
       " 'dataType': 'Branded',\n",
       " 'gtinUpc': '75925306223',\n",
       " 'publishedDate': '2021-10-28',\n",
       " 'brandOwner': 'Three Square Inc.',\n",
       " 'brandName': 'CRYSTAL FARMS',\n",
       " 'ingredients': 'CHEDDAR CHEESE (PASTEURIZED MILK, CHEESE CULTURE, SALT, ENZYMES, ANNATTO COLOR), POTATO STARCH, STARCH AND CELLULOSE POWDER TO PREVENT CAKING, NATAMYCIN (MOLD INHIBITOR).',\n",
       " 'marketCountry': 'United States',\n",
       " 'foodCategory': 'Cheese',\n",
       " 'modifiedDate': '2021-02-25',\n",
       " 'dataSource': 'LI',\n",
       " 'packageWeight': '8 oz/226 g',\n",
       " 'servingSizeUnit': 'g',\n",
       " 'servingSize': 28.0,\n",
       " 'allHighlightFields': '<b>Ingredients</b>: <em>CHEDDAR</em> <em>CHEESE</em> (PASTEURIZED MILK, <em>CHEESE</em> CULTURE, SALT, ENZYMES, ANNATTO COLOR), POTATO STARCH',\n",
       " 'score': 865.8816,\n",
       " 'foodNutrients': [{'nutrientId': 1003,\n",
       "   'nutrientName': 'Protein',\n",
       "   'nutrientNumber': '203',\n",
       "   'unitName': 'G',\n",
       "   'derivationCode': 'LCCS',\n",
       "   'derivationDescription': 'Calculated from value per serving size measure',\n",
       "   'derivationId': 70,\n",
       "   'value': 25.0,\n",
       "   'foodNutrientSourceId': 9,\n",
       "   'foodNutrientSourceCode': '12',\n",
       "   'foodNutrientSourceDescription': \"Manufacturer's analytical; partial documentation\",\n",
       "   'rank': 600,\n",
       "   'indentLevel': 1,\n",
       "   'foodNutrientId': 25939750},\n",
       "  {'nutrientId': 1004,\n",
       "   'nutrientName': 'Total lipid (fat)',\n",
       "   'nutrientNumber': '204',\n",
       "   'unitName': 'G',\n",
       "   'derivationCode': 'LCCS',\n",
       "   'derivationDescription': 'Calculated from value per serving size measure',\n",
       "   'derivationId': 70,\n",
       "   'value': 32.1,\n",
       "   'foodNutrientSourceId': 9,\n",
       "   'foodNutrientSourceCode': '12',\n",
       "   'foodNutrientSourceDescription': \"Manufacturer's analytical; partial documentation\",\n",
       "   'rank': 800,\n",
       "   'indentLevel': 1,\n",
       "   'foodNutrientId': 25939751,\n",
       "   'percentDailyValue': 14},\n",
       "  {'nutrientId': 1005,\n",
       "   'nutrientName': 'Carbohydrate, by difference',\n",
       "   'nutrientNumber': '205',\n",
       "   'unitName': 'G',\n",
       "   'derivationCode': 'LCCS',\n",
       "   'derivationDescription': 'Calculated from value per serving size measure',\n",
       "   'derivationId': 70,\n",
       "   'value': 3.57,\n",
       "   'foodNutrientSourceId': 9,\n",
       "   'foodNutrientSourceCode': '12',\n",
       "   'foodNutrientSourceDescription': \"Manufacturer's analytical; partial documentation\",\n",
       "   'rank': 1110,\n",
       "   'indentLevel': 2,\n",
       "   'foodNutrientId': 25939752,\n",
       "   'percentDailyValue': 0},\n",
       "  {'nutrientId': 1008,\n",
       "   'nutrientName': 'Energy',\n",
       "   'nutrientNumber': '208',\n",
       "   'unitName': 'KCAL',\n",
       "   'derivationCode': 'LCCS',\n",
       "   'derivationDescription': 'Calculated from value per serving size measure',\n",
       "   'derivationId': 70,\n",
       "   'value': 393,\n",
       "   'foodNutrientSourceId': 9,\n",
       "   'foodNutrientSourceCode': '12',\n",
       "   'foodNutrientSourceDescription': \"Manufacturer's analytical; partial documentation\",\n",
       "   'rank': 300,\n",
       "   'indentLevel': 1,\n",
       "   'foodNutrientId': 25939753},\n",
       "  {'nutrientId': 2000,\n",
       "   'nutrientName': 'Sugars, total including NLEA',\n",
       "   'nutrientNumber': '269',\n",
       "   'unitName': 'G',\n",
       "   'derivationCode': 'LCCS',\n",
       "   'derivationDescription': 'Calculated from value per serving size measure',\n",
       "   'derivationId': 70,\n",
       "   'value': 0.0,\n",
       "   'foodNutrientSourceId': 9,\n",
       "   'foodNutrientSourceCode': '12',\n",
       "   'foodNutrientSourceDescription': \"Manufacturer's analytical; partial documentation\",\n",
       "   'rank': 1510,\n",
       "   'indentLevel': 3,\n",
       "   'foodNutrientId': 25939754},\n",
       "  {'nutrientId': 1079,\n",
       "   'nutrientName': 'Fiber, total dietary',\n",
       "   'nutrientNumber': '291',\n",
       "   'unitName': 'G',\n",
       "   'derivationCode': 'LCCD',\n",
       "   'derivationDescription': 'Calculated from a daily value percentage per serving size measure',\n",
       "   'derivationId': 75,\n",
       "   'value': 0.0,\n",
       "   'foodNutrientSourceId': 9,\n",
       "   'foodNutrientSourceCode': '12',\n",
       "   'foodNutrientSourceDescription': \"Manufacturer's analytical; partial documentation\",\n",
       "   'rank': 1200,\n",
       "   'indentLevel': 3,\n",
       "   'foodNutrientId': 25939755,\n",
       "   'percentDailyValue': 0},\n",
       "  {'nutrientId': 1087,\n",
       "   'nutrientName': 'Calcium, Ca',\n",
       "   'nutrientNumber': '301',\n",
       "   'unitName': 'MG',\n",
       "   'derivationCode': 'LCCD',\n",
       "   'derivationDescription': 'Calculated from a daily value percentage per serving size measure',\n",
       "   'derivationId': 75,\n",
       "   'value': 714,\n",
       "   'foodNutrientSourceId': 9,\n",
       "   'foodNutrientSourceCode': '12',\n",
       "   'foodNutrientSourceDescription': \"Manufacturer's analytical; partial documentation\",\n",
       "   'rank': 5300,\n",
       "   'indentLevel': 1,\n",
       "   'foodNutrientId': 25939756,\n",
       "   'percentDailyValue': 20},\n",
       "  {'nutrientId': 1089,\n",
       "   'nutrientName': 'Iron, Fe',\n",
       "   'nutrientNumber': '303',\n",
       "   'unitName': 'MG',\n",
       "   'derivationCode': 'LCCD',\n",
       "   'derivationDescription': 'Calculated from a daily value percentage per serving size measure',\n",
       "   'derivationId': 75,\n",
       "   'value': 0.0,\n",
       "   'foodNutrientSourceId': 9,\n",
       "   'foodNutrientSourceCode': '12',\n",
       "   'foodNutrientSourceDescription': \"Manufacturer's analytical; partial documentation\",\n",
       "   'rank': 5400,\n",
       "   'indentLevel': 1,\n",
       "   'foodNutrientId': 25939757,\n",
       "   'percentDailyValue': 0},\n",
       "  {'nutrientId': 1093,\n",
       "   'nutrientName': 'Sodium, Na',\n",
       "   'nutrientNumber': '307',\n",
       "   'unitName': 'MG',\n",
       "   'derivationCode': 'LCCS',\n",
       "   'derivationDescription': 'Calculated from value per serving size measure',\n",
       "   'derivationId': 70,\n",
       "   'value': 607,\n",
       "   'foodNutrientSourceId': 9,\n",
       "   'foodNutrientSourceCode': '12',\n",
       "   'foodNutrientSourceDescription': \"Manufacturer's analytical; partial documentation\",\n",
       "   'rank': 5800,\n",
       "   'indentLevel': 1,\n",
       "   'foodNutrientId': 25939758,\n",
       "   'percentDailyValue': 7},\n",
       "  {'nutrientId': 1104,\n",
       "   'nutrientName': 'Vitamin A, IU',\n",
       "   'nutrientNumber': '318',\n",
       "   'unitName': 'IU',\n",
       "   'derivationCode': 'LCCD',\n",
       "   'derivationDescription': 'Calculated from a daily value percentage per serving size measure',\n",
       "   'derivationId': 75,\n",
       "   'value': 1070.0,\n",
       "   'foodNutrientSourceId': 9,\n",
       "   'foodNutrientSourceCode': '12',\n",
       "   'foodNutrientSourceDescription': \"Manufacturer's analytical; partial documentation\",\n",
       "   'rank': 7500,\n",
       "   'indentLevel': 1,\n",
       "   'foodNutrientId': 25939759,\n",
       "   'percentDailyValue': 6},\n",
       "  {'nutrientId': 1162,\n",
       "   'nutrientName': 'Vitamin C, total ascorbic acid',\n",
       "   'nutrientNumber': '401',\n",
       "   'unitName': 'MG',\n",
       "   'derivationCode': 'LCCD',\n",
       "   'derivationDescription': 'Calculated from a daily value percentage per serving size measure',\n",
       "   'derivationId': 75,\n",
       "   'value': 0.0,\n",
       "   'foodNutrientSourceId': 9,\n",
       "   'foodNutrientSourceCode': '12',\n",
       "   'foodNutrientSourceDescription': \"Manufacturer's analytical; partial documentation\",\n",
       "   'rank': 6300,\n",
       "   'indentLevel': 1,\n",
       "   'foodNutrientId': 25939760,\n",
       "   'percentDailyValue': 0},\n",
       "  {'nutrientId': 1253,\n",
       "   'nutrientName': 'Cholesterol',\n",
       "   'nutrientNumber': '601',\n",
       "   'unitName': 'MG',\n",
       "   'derivationCode': 'LCCS',\n",
       "   'derivationDescription': 'Calculated from value per serving size measure',\n",
       "   'derivationId': 70,\n",
       "   'value': 107,\n",
       "   'foodNutrientSourceId': 9,\n",
       "   'foodNutrientSourceCode': '12',\n",
       "   'foodNutrientSourceDescription': \"Manufacturer's analytical; partial documentation\",\n",
       "   'rank': 15700,\n",
       "   'indentLevel': 1,\n",
       "   'foodNutrientId': 25939761,\n",
       "   'percentDailyValue': 9},\n",
       "  {'nutrientId': 1257,\n",
       "   'nutrientName': 'Fatty acids, total trans',\n",
       "   'nutrientNumber': '605',\n",
       "   'unitName': 'G',\n",
       "   'derivationCode': 'LCCS',\n",
       "   'derivationDescription': 'Calculated from value per serving size measure',\n",
       "   'derivationId': 70,\n",
       "   'value': 0.0,\n",
       "   'foodNutrientSourceId': 9,\n",
       "   'foodNutrientSourceCode': '12',\n",
       "   'foodNutrientSourceDescription': \"Manufacturer's analytical; partial documentation\",\n",
       "   'rank': 15400,\n",
       "   'indentLevel': 1,\n",
       "   'foodNutrientId': 25939762},\n",
       "  {'nutrientId': 1258,\n",
       "   'nutrientName': 'Fatty acids, total saturated',\n",
       "   'nutrientNumber': '606',\n",
       "   'unitName': 'G',\n",
       "   'derivationCode': 'LCCS',\n",
       "   'derivationDescription': 'Calculated from value per serving size measure',\n",
       "   'derivationId': 70,\n",
       "   'value': 21.4,\n",
       "   'foodNutrientSourceId': 9,\n",
       "   'foodNutrientSourceCode': '12',\n",
       "   'foodNutrientSourceDescription': \"Manufacturer's analytical; partial documentation\",\n",
       "   'rank': 9700,\n",
       "   'indentLevel': 1,\n",
       "   'foodNutrientId': 25939763,\n",
       "   'percentDailyValue': 29}],\n",
       " 'finalFoodInputFoods': [],\n",
       " 'foodMeasures': [],\n",
       " 'foodAttributes': [],\n",
       " 'foodAttributeTypes': [],\n",
       " 'foodVersionIds': []}"
      ]
     },
     "execution_count": 8,
     "metadata": {},
     "output_type": "execute_result"
    }
   ],
   "source": [
    "response['foods'][0]"
   ]
  },
  {
   "cell_type": "code",
   "execution_count": 9,
   "metadata": {},
   "outputs": [
    {
     "data": {
      "text/plain": [
       "50"
      ]
     },
     "execution_count": 9,
     "metadata": {},
     "output_type": "execute_result"
    }
   ],
   "source": [
    "len(response['foods'])"
   ]
  },
  {
   "cell_type": "code",
   "execution_count": 21,
   "metadata": {},
   "outputs": [
    {
     "data": {
      "text/plain": [
       "2015943"
      ]
     },
     "execution_count": 21,
     "metadata": {},
     "output_type": "execute_result"
    }
   ],
   "source": [
    "fdcId = response['foods'][0]['fdcId']\n",
    "fdcId"
   ]
  },
  {
   "cell_type": "code",
   "execution_count": 22,
   "metadata": {},
   "outputs": [],
   "source": [
    "foodCategory = response['foods'][0]['foodCategory']"
   ]
  },
  {
   "cell_type": "code",
   "execution_count": 23,
   "metadata": {},
   "outputs": [
    {
     "data": {
      "text/plain": [
       "'Cheese'"
      ]
     },
     "execution_count": 23,
     "metadata": {},
     "output_type": "execute_result"
    }
   ],
   "source": [
    "foodCategory"
   ]
  },
  {
   "cell_type": "code",
   "execution_count": 24,
   "metadata": {},
   "outputs": [],
   "source": [
    "foodWeight = response['foods'][0]['packageWeight']"
   ]
  },
  {
   "cell_type": "code",
   "execution_count": 25,
   "metadata": {},
   "outputs": [],
   "source": [
    "protein = response['foods'][0]['foodNutrients'][0]['value']\n",
    "fat = response['foods'][0]['foodNutrients'][1]['value']\n",
    "carbohydrate = response['foods'][0]['foodNutrients'][2]['value']\n",
    "energy = response['foods'][0]['foodNutrients'][3]['value']\n",
    "sugre = response['foods'][0]['foodNutrients'][4]['value']\n",
    "vitamin_A = response['foods'][0]['foodNutrients'][9]['value']\n",
    "vitamin_C = response['foods'][0]['foodNutrients'][10]['value']"
   ]
  },
  {
   "cell_type": "code",
   "execution_count": 26,
   "metadata": {},
   "outputs": [],
   "source": [
    "foodDict = {\n",
    "    'Food Name': foodName,\n",
    "    'Food Category': foodCategory,\n",
    "    'Food Weight': foodWeight,\n",
    "    'Protein': protein,\n",
    "    'Fat':fat,\n",
    "    'Carbohydrate':carbohydrate,\n",
    "    'Energy':energy,\n",
    "    'Sugre':sugre,\n",
    "    'Vitamin_A':vitamin_A,\n",
    "    'Vitamin_C':vitamin_C\n",
    "}"
   ]
  },
  {
   "cell_type": "code",
   "execution_count": 27,
   "metadata": {},
   "outputs": [
    {
     "data": {
      "text/plain": [
       "{'Food Name': 'Cheddar cheese',\n",
       " 'Food Category': 'Cheese',\n",
       " 'Food Weight': '8 oz/226 g',\n",
       " 'Protein': 25.0,\n",
       " 'Fat': 32.1,\n",
       " 'Carbohydrate': 3.57,\n",
       " 'Energy': 393,\n",
       " 'Sugre': 0.0,\n",
       " 'Vitamin_A': 1070.0,\n",
       " 'Vitamin_C': 0.0}"
      ]
     },
     "execution_count": 27,
     "metadata": {},
     "output_type": "execute_result"
    }
   ],
   "source": [
    "foodDict"
   ]
  }
 ],
 "metadata": {
  "interpreter": {
   "hash": "2be5faf79681da6f2a61fdfdd5405d65d042280f7fba6178067603e3a2925119"
  },
  "kernelspec": {
   "display_name": "Python 3.10.2 64-bit",
   "language": "python",
   "name": "python3"
  },
  "language_info": {
   "codemirror_mode": {
    "name": "ipython",
    "version": 3
   },
   "file_extension": ".py",
   "mimetype": "text/x-python",
   "name": "python",
   "nbconvert_exporter": "python",
   "pygments_lexer": "ipython3",
   "version": "3.10.2"
  },
  "orig_nbformat": 4
 },
 "nbformat": 4,
 "nbformat_minor": 2
}
