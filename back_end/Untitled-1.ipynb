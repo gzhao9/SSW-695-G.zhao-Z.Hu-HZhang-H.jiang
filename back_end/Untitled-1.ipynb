{
 "cells": [
  {
   "cell_type": "code",
   "execution_count": 1,
   "metadata": {},
   "outputs": [],
   "source": [
    "from functions import *"
   ]
  },
  {
   "cell_type": "code",
   "execution_count": 2,
   "metadata": {},
   "outputs": [],
   "source": [
    "info={\n",
    "\t\n",
    "'date':'2021-09-11',\n",
    "'userId':\"D1324\",\n",
    "'userName': \"a\",\n",
    "'gender':'m',\n",
    "'allergySource': ['fish', 'soy'],\n",
    "'birthday': \"1997-04-07\",\n",
    "'height': 184,\n",
    "'weight': 103,\n",
    "'fatRate': 29,\n",
    "'isVegan':'false',\t\n",
    "'mealPlan': \"keepHealth\",\n",
    "}\n"
   ]
  },
  {
   "cell_type": "code",
   "execution_count": 3,
   "metadata": {},
   "outputs": [
    {
     "data": {
      "text/plain": [
       "{'date': '2021-09-11',\n",
       " 'userId': 'gw',\n",
       " 'userName': 'a',\n",
       " 'gender': 'm',\n",
       " 'allergySource': ['fish', 'soy'],\n",
       " 'birthday': '1997-04-07',\n",
       " 'height': 184,\n",
       " 'weight': 103,\n",
       " 'fatRate': 29,\n",
       " 'isVegan': 'false',\n",
       " 'mealPlan': 'keepHealth',\n",
       " 'BMR': 2240.63}"
      ]
     },
     "execution_count": 3,
     "metadata": {},
     "output_type": "execute_result"
    }
   ],
   "source": [
    "update_user_info(\"gw\",info)"
   ]
  }
 ],
 "metadata": {
  "interpreter": {
   "hash": "eb7f93a6330ea8412d1869d4c0b1adf3650307380c2e8540bd18eddbb78ad1c4"
  },
  "kernelspec": {
   "display_name": "Python 3.10.2 64-bit",
   "language": "python",
   "name": "python3"
  },
  "language_info": {
   "codemirror_mode": {
    "name": "ipython",
    "version": 3
   },
   "file_extension": ".py",
   "mimetype": "text/x-python",
   "name": "python",
   "nbconvert_exporter": "python",
   "pygments_lexer": "ipython3",
   "version": "3.10.2"
  },
  "orig_nbformat": 4
 },
 "nbformat": 4,
 "nbformat_minor": 2
}
