{
 "cells": [
  {
   "cell_type": "code",
   "execution_count": 3,
   "metadata": {},
   "outputs": [],
   "source": [
    "from functions import *"
   ]
  },
  {
   "cell_type": "code",
   "execution_count": 1,
   "metadata": {},
   "outputs": [],
   "source": [
    "import json"
   ]
  },
  {
   "cell_type": "code",
   "execution_count": 4,
   "metadata": {},
   "outputs": [],
   "source": [
    "data=get_user_logs('GW')"
   ]
  },
  {
   "cell_type": "code",
   "execution_count": 5,
   "metadata": {},
   "outputs": [],
   "source": [
    "import datetime\n",
    "from datetime import date\n",
    "from datetime import datetime"
   ]
  },
  {
   "cell_type": "code",
   "execution_count": 13,
   "metadata": {},
   "outputs": [
    {
     "data": {
      "text/plain": [
       "datetime.datetime"
      ]
     },
     "execution_count": 13,
     "metadata": {},
     "output_type": "execute_result"
    }
   ],
   "source": []
  },
  {
   "cell_type": "code",
   "execution_count": 3,
   "metadata": {},
   "outputs": [
    {
     "name": "stdout",
     "output_type": "stream",
     "text": [
      "select * from login where userId = 'h1@123.com'\n"
     ]
    },
    {
     "data": {
      "text/plain": [
       "True"
      ]
     },
     "execution_count": 3,
     "metadata": {},
     "output_type": "execute_result"
    }
   ],
   "source": [
    "verify_login('h1@123.com','123456')"
   ]
  },
  {
   "cell_type": "code",
   "execution_count": 4,
   "metadata": {},
   "outputs": [
    {
     "name": "stdout",
     "output_type": "stream",
     "text": [
      "select * from login where userId = 'gw@123.com'\n"
     ]
    },
    {
     "data": {
      "text/plain": [
       "False"
      ]
     },
     "execution_count": 4,
     "metadata": {},
     "output_type": "execute_result"
    }
   ],
   "source": [
    "verify_register(\"gw@123.com\",\"ggww\")"
   ]
  },
  {
   "cell_type": "code",
   "execution_count": 5,
   "metadata": {},
   "outputs": [
    {
     "data": {
      "text/plain": [
       "[('GW',\n",
       "  'GW',\n",
       "  'M',\n",
       "  184.0,\n",
       "  108.0,\n",
       "  None,\n",
       "  28,\n",
       "  None,\n",
       "  None,\n",
       "  None,\n",
       "  1000,\n",
       "  datetime.date(2022, 4, 4))]"
      ]
     },
     "execution_count": 5,
     "metadata": {},
     "output_type": "execute_result"
    }
   ],
   "source": [
    "get_user_info(\"GW\",\"2022-04-04\")"
   ]
  },
  {
   "cell_type": "code",
   "execution_count": 6,
   "metadata": {},
   "outputs": [
    {
     "name": "stdout",
     "output_type": "stream",
     "text": [
      "select * from userInfo_logs where userId = 'GW'\n"
     ]
    },
    {
     "data": {
      "text/plain": [
       "[('GW',\n",
       "  'GW',\n",
       "  'M',\n",
       "  184.0,\n",
       "  108.0,\n",
       "  None,\n",
       "  28,\n",
       "  None,\n",
       "  None,\n",
       "  None,\n",
       "  1000,\n",
       "  datetime.date(2022, 4, 4))]"
      ]
     },
     "execution_count": 6,
     "metadata": {},
     "output_type": "execute_result"
    }
   ],
   "source": [
    "get_user_logs(\"GW\")"
   ]
  },
  {
   "cell_type": "code",
   "execution_count": 7,
   "metadata": {},
   "outputs": [
    {
     "ename": "MySQLInterfaceError",
     "evalue": "Python type list cannot be converted",
     "output_type": "error",
     "traceback": [
      "\u001b[1;31m---------------------------------------------------------------------------\u001b[0m",
      "\u001b[1;31mMySQLInterfaceError\u001b[0m                       Traceback (most recent call last)",
      "\u001b[1;32mc:\\Users\\admin\\Documents\\GitHub\\SSW-695-G.zhao-Z.Hu-HZhang-H.jiang\\back_end\\Untitled-1.ipynb Cell 7'\u001b[0m in \u001b[0;36m<cell line: 16>\u001b[1;34m()\u001b[0m\n\u001b[0;32m      <a href='vscode-notebook-cell:/c%3A/Users/admin/Documents/GitHub/SSW-695-G.zhao-Z.Hu-HZhang-H.jiang/back_end/Untitled-1.ipynb#ch0000006?line=0'>1</a>\u001b[0m info\u001b[39m=\u001b[39m{\n\u001b[0;32m      <a href='vscode-notebook-cell:/c%3A/Users/admin/Documents/GitHub/SSW-695-G.zhao-Z.Hu-HZhang-H.jiang/back_end/Untitled-1.ipynb#ch0000006?line=1'>2</a>\u001b[0m \t\n\u001b[0;32m      <a href='vscode-notebook-cell:/c%3A/Users/admin/Documents/GitHub/SSW-695-G.zhao-Z.Hu-HZhang-H.jiang/back_end/Untitled-1.ipynb#ch0000006?line=2'>3</a>\u001b[0m \u001b[39m'\u001b[39m\u001b[39minfoDate\u001b[39m\u001b[39m'\u001b[39m:\u001b[39m'\u001b[39m\u001b[39m2021-09-11\u001b[39m\u001b[39m'\u001b[39m,\n\u001b[1;32m   (...)\u001b[0m\n\u001b[0;32m     <a href='vscode-notebook-cell:/c%3A/Users/admin/Documents/GitHub/SSW-695-G.zhao-Z.Hu-HZhang-H.jiang/back_end/Untitled-1.ipynb#ch0000006?line=12'>13</a>\u001b[0m \u001b[39m'\u001b[39m\u001b[39mmealPlan\u001b[39m\u001b[39m'\u001b[39m: \u001b[39m\"\u001b[39m\u001b[39mkeepHealth\u001b[39m\u001b[39m\"\u001b[39m,\n\u001b[0;32m     <a href='vscode-notebook-cell:/c%3A/Users/admin/Documents/GitHub/SSW-695-G.zhao-Z.Hu-HZhang-H.jiang/back_end/Untitled-1.ipynb#ch0000006?line=13'>14</a>\u001b[0m }\n\u001b[1;32m---> <a href='vscode-notebook-cell:/c%3A/Users/admin/Documents/GitHub/SSW-695-G.zhao-Z.Hu-HZhang-H.jiang/back_end/Untitled-1.ipynb#ch0000006?line=15'>16</a>\u001b[0m update_user_info(\u001b[39m\"\u001b[39;49m\u001b[39mGW\u001b[39;49m\u001b[39m\"\u001b[39;49m,info)\n",
      "File \u001b[1;32mc:\\Users\\admin\\Documents\\GitHub\\SSW-695-G.zhao-Z.Hu-HZhang-H.jiang\\back_end\\functions.py:78\u001b[0m, in \u001b[0;36mupdate_user_info\u001b[1;34m(userId, info)\u001b[0m\n\u001b[0;32m     <a href='file:///c%3A/Users/admin/Documents/GitHub/SSW-695-G.zhao-Z.Hu-HZhang-H.jiang/back_end/functions.py?line=75'>76</a>\u001b[0m info[\u001b[39m'\u001b[39m\u001b[39mBMR\u001b[39m\u001b[39m'\u001b[39m]\u001b[39m=\u001b[39mcal_BMR(info[\u001b[39m'\u001b[39m\u001b[39mgender\u001b[39m\u001b[39m'\u001b[39m],info[\u001b[39m'\u001b[39m\u001b[39mweight\u001b[39m\u001b[39m'\u001b[39m],info[\u001b[39m'\u001b[39m\u001b[39mheight\u001b[39m\u001b[39m'\u001b[39m],age)\n\u001b[0;32m     <a href='file:///c%3A/Users/admin/Documents/GitHub/SSW-695-G.zhao-Z.Hu-HZhang-H.jiang/back_end/functions.py?line=76'>77</a>\u001b[0m info[\u001b[39m'\u001b[39m\u001b[39mfatRate\u001b[39m\u001b[39m'\u001b[39m] \u001b[39m# calculation\u001b[39;00m\n\u001b[1;32m---> <a href='file:///c%3A/Users/admin/Documents/GitHub/SSW-695-G.zhao-Z.Hu-HZhang-H.jiang/back_end/functions.py?line=77'>78</a>\u001b[0m \u001b[39mreturn\u001b[39;00m flask_db_operate\u001b[39m.\u001b[39;49mupdateinTable(tableuserInfo, info, \u001b[39m'\u001b[39;49m\u001b[39muserId\u001b[39;49m\u001b[39m'\u001b[39;49m, userId)\n",
      "File \u001b[1;32mc:\\Users\\admin\\Documents\\GitHub\\SSW-695-G.zhao-Z.Hu-HZhang-H.jiang\\back_end\\flask_db_operate.py:139\u001b[0m, in \u001b[0;36mupdateinTable\u001b[1;34m(tableName, dataDict, colName, colValues)\u001b[0m\n\u001b[0;32m    <a href='file:///c%3A/Users/admin/Documents/GitHub/SSW-695-G.zhao-Z.Hu-HZhang-H.jiang/back_end/flask_db_operate.py?line=136'>137</a>\u001b[0m     \u001b[39melse\u001b[39;00m:\n\u001b[0;32m    <a href='file:///c%3A/Users/admin/Documents/GitHub/SSW-695-G.zhao-Z.Hu-HZhang-H.jiang/back_end/flask_db_operate.py?line=137'>138</a>\u001b[0m         val\u001b[39m.\u001b[39mappend(value)\n\u001b[1;32m--> <a href='file:///c%3A/Users/admin/Documents/GitHub/SSW-695-G.zhao-Z.Hu-HZhang-H.jiang/back_end/flask_db_operate.py?line=138'>139</a>\u001b[0m mycursor\u001b[39m.\u001b[39;49mexecute(RES_SQL, val)\n\u001b[0;32m    <a href='file:///c%3A/Users/admin/Documents/GitHub/SSW-695-G.zhao-Z.Hu-HZhang-H.jiang/back_end/flask_db_operate.py?line=139'>140</a>\u001b[0m mycursor\u001b[39m.\u001b[39mfetchone()\n\u001b[0;32m    <a href='file:///c%3A/Users/admin/Documents/GitHub/SSW-695-G.zhao-Z.Hu-HZhang-H.jiang/back_end/flask_db_operate.py?line=140'>141</a>\u001b[0m myresult \u001b[39m=\u001b[39m mycursor\u001b[39m.\u001b[39mfetchone()\n",
      "File \u001b[1;32mC:\\Python310\\lib\\site-packages\\mysql\\connector\\cursor_cext.py:257\u001b[0m, in \u001b[0;36mCMySQLCursor.execute\u001b[1;34m(self, operation, params, multi)\u001b[0m\n\u001b[0;32m    <a href='file:///c%3A/Python310/lib/site-packages/mysql/connector/cursor_cext.py?line=253'>254</a>\u001b[0m     \u001b[39mraise\u001b[39;00m errors\u001b[39m.\u001b[39mProgrammingError(\u001b[39mstr\u001b[39m(err))\n\u001b[0;32m    <a href='file:///c%3A/Python310/lib/site-packages/mysql/connector/cursor_cext.py?line=255'>256</a>\u001b[0m \u001b[39mif\u001b[39;00m params:\n\u001b[1;32m--> <a href='file:///c%3A/Python310/lib/site-packages/mysql/connector/cursor_cext.py?line=256'>257</a>\u001b[0m     prepared \u001b[39m=\u001b[39m \u001b[39mself\u001b[39;49m\u001b[39m.\u001b[39;49m_cnx\u001b[39m.\u001b[39;49mprepare_for_mysql(params)\n\u001b[0;32m    <a href='file:///c%3A/Python310/lib/site-packages/mysql/connector/cursor_cext.py?line=257'>258</a>\u001b[0m     \u001b[39mif\u001b[39;00m \u001b[39misinstance\u001b[39m(prepared, \u001b[39mdict\u001b[39m):\n\u001b[0;32m    <a href='file:///c%3A/Python310/lib/site-packages/mysql/connector/cursor_cext.py?line=258'>259</a>\u001b[0m         \u001b[39mfor\u001b[39;00m key, value \u001b[39min\u001b[39;00m prepared\u001b[39m.\u001b[39mitems():\n",
      "File \u001b[1;32mC:\\Python310\\lib\\site-packages\\mysql\\connector\\connection_cext.py:672\u001b[0m, in \u001b[0;36mCMySQLConnection.prepare_for_mysql\u001b[1;34m(self, params)\u001b[0m\n\u001b[0;32m    <a href='file:///c%3A/Python310/lib/site-packages/mysql/connector/connection_cext.py?line=663'>664</a>\u001b[0m         result \u001b[39m=\u001b[39m [\n\u001b[0;32m    <a href='file:///c%3A/Python310/lib/site-packages/mysql/connector/connection_cext.py?line=664'>665</a>\u001b[0m             \u001b[39mself\u001b[39m\u001b[39m.\u001b[39mconverter\u001b[39m.\u001b[39mquote(\n\u001b[0;32m    <a href='file:///c%3A/Python310/lib/site-packages/mysql/connector/connection_cext.py?line=665'>666</a>\u001b[0m                 \u001b[39mself\u001b[39m\u001b[39m.\u001b[39mconverter\u001b[39m.\u001b[39mescape(\n\u001b[1;32m   (...)\u001b[0m\n\u001b[0;32m    <a href='file:///c%3A/Python310/lib/site-packages/mysql/connector/connection_cext.py?line=668'>669</a>\u001b[0m             ) \u001b[39mfor\u001b[39;00m value \u001b[39min\u001b[39;00m params\n\u001b[0;32m    <a href='file:///c%3A/Python310/lib/site-packages/mysql/connector/connection_cext.py?line=669'>670</a>\u001b[0m         ]\n\u001b[0;32m    <a href='file:///c%3A/Python310/lib/site-packages/mysql/connector/connection_cext.py?line=670'>671</a>\u001b[0m     \u001b[39melse\u001b[39;00m:\n\u001b[1;32m--> <a href='file:///c%3A/Python310/lib/site-packages/mysql/connector/connection_cext.py?line=671'>672</a>\u001b[0m         result \u001b[39m=\u001b[39m \u001b[39mself\u001b[39;49m\u001b[39m.\u001b[39;49m_cmysql\u001b[39m.\u001b[39;49mconvert_to_mysql(\u001b[39m*\u001b[39;49mparams)\n\u001b[0;32m    <a href='file:///c%3A/Python310/lib/site-packages/mysql/connector/connection_cext.py?line=672'>673</a>\u001b[0m \u001b[39melif\u001b[39;00m \u001b[39misinstance\u001b[39m(params, \u001b[39mdict\u001b[39m):\n\u001b[0;32m    <a href='file:///c%3A/Python310/lib/site-packages/mysql/connector/connection_cext.py?line=673'>674</a>\u001b[0m     result \u001b[39m=\u001b[39m {}\n",
      "\u001b[1;31mMySQLInterfaceError\u001b[0m: Python type list cannot be converted"
     ]
    }
   ],
   "source": [
    "info={\n",
    "\t\n",
    "'infoDate':'2021-09-11',\n",
    "'userId':'GW',\n",
    "'userName': \"a\",\n",
    "'gender':'M',\n",
    "'allergySource': ['fish', 'soy'],\n",
    "'birthday': \"1997-04-07\",\n",
    "'height': 184,\n",
    "'weight': 103,\n",
    "'fatRate': 29,\n",
    "'isVegan': False,\t\n",
    "'mealPlan': \"keepHealth\",\n",
    "}\n",
    "\n",
    "update_user_info(\"GW\",info)"
   ]
  },
  {
   "cell_type": "code",
   "execution_count": null,
   "metadata": {},
   "outputs": [],
   "source": []
  },
  {
   "cell_type": "code",
   "execution_count": null,
   "metadata": {},
   "outputs": [],
   "source": [
    "info={\n",
    "\t\n",
    "'infoDate':'2021-09-11',\n",
    "'userId':\"D1324\",\n",
    "'userName': \"a\",\n",
    "'gender':'m',\n",
    "'allergySource': ['fish', 'soy'],\n",
    "'birthday': \"1997-04-07\",\n",
    "'height': 184,\n",
    "'weight': 103,\n",
    "'fatRate': 29,\n",
    "'isVegan':'false',\t\n",
    "'mealPlan': \"keepHealth\",\n",
    "}\n"
   ]
  },
  {
   "cell_type": "code",
   "execution_count": null,
   "metadata": {},
   "outputs": [],
   "source": [
    "# update_user_info(\"gw\",info)"
   ]
  },
  {
   "cell_type": "code",
   "execution_count": 7,
   "metadata": {},
   "outputs": [
    {
     "data": {
      "text/plain": [
       "int"
      ]
     },
     "execution_count": 7,
     "metadata": {},
     "output_type": "execute_result"
    }
   ],
   "source": [
    "import flask_db_operate\n",
    "rrrr = flask_db_operate.findId()\n",
    "rrrr"
   ]
  },
  {
   "cell_type": "code",
   "execution_count": null,
   "metadata": {},
   "outputs": [],
   "source": []
  }
 ],
 "metadata": {
  "interpreter": {
   "hash": "eb7f93a6330ea8412d1869d4c0b1adf3650307380c2e8540bd18eddbb78ad1c4"
  },
  "kernelspec": {
   "display_name": "Python 3.10.2 64-bit",
   "language": "python",
   "name": "python3"
  },
  "language_info": {
   "codemirror_mode": {
    "name": "ipython",
    "version": 3
   },
   "file_extension": ".py",
   "mimetype": "text/x-python",
   "name": "python",
   "nbconvert_exporter": "python",
   "pygments_lexer": "ipython3",
   "version": "3.10.2"
  },
  "orig_nbformat": 4
 },
 "nbformat": 4,
 "nbformat_minor": 2
}
