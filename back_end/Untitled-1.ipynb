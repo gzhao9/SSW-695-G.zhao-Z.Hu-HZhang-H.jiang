{
 "cells": [
  {
   "cell_type": "code",
   "execution_count": 1,
   "metadata": {},
   "outputs": [],
   "source": [
    "from functions import *"
   ]
  },
  {
   "cell_type": "code",
   "execution_count": 2,
   "metadata": {},
   "outputs": [
    {
     "name": "stdout",
     "output_type": "stream",
     "text": [
      "select * from login where userId = 'h1@123.com'\n"
     ]
    },
    {
     "data": {
      "text/plain": [
       "True"
      ]
     },
     "execution_count": 2,
     "metadata": {},
     "output_type": "execute_result"
    }
   ],
   "source": [
    "verify_login('h1@123.com','13456')"
   ]
  },
  {
   "cell_type": "code",
   "execution_count": 3,
   "metadata": {},
   "outputs": [
    {
     "name": "stdout",
     "output_type": "stream",
     "text": [
      "select * from login where userId = 'h1@123.com'\n"
     ]
    },
    {
     "data": {
      "text/plain": [
       "True"
      ]
     },
     "execution_count": 3,
     "metadata": {},
     "output_type": "execute_result"
    }
   ],
   "source": [
    "verify_login('h1@123.com','123456')"
   ]
  },
  {
   "cell_type": "code",
   "execution_count": 4,
   "metadata": {},
   "outputs": [
    {
     "name": "stdout",
     "output_type": "stream",
     "text": [
      "select * from login where userId = 'gw@123.com'\n"
     ]
    },
    {
     "data": {
      "text/plain": [
       "False"
      ]
     },
     "execution_count": 4,
     "metadata": {},
     "output_type": "execute_result"
    }
   ],
   "source": [
    "verify_register(\"gw@123.com\",\"ggww\")"
   ]
  },
  {
   "cell_type": "code",
   "execution_count": 8,
   "metadata": {},
   "outputs": [
    {
     "data": {
      "text/plain": [
       "[('GW',\n",
       "  'GW',\n",
       "  'M',\n",
       "  184.0,\n",
       "  108.0,\n",
       "  None,\n",
       "  28,\n",
       "  None,\n",
       "  None,\n",
       "  None,\n",
       "  1000,\n",
       "  datetime.date(2022, 4, 4))]"
      ]
     },
     "execution_count": 8,
     "metadata": {},
     "output_type": "execute_result"
    }
   ],
   "source": [
    "get_user_info(\"GW\",\"2022-04-04\")"
   ]
  },
  {
   "cell_type": "code",
   "execution_count": 9,
   "metadata": {},
   "outputs": [
    {
     "name": "stdout",
     "output_type": "stream",
     "text": [
      "select * from userInfo_logs where userId = 'GW'\n"
     ]
    },
    {
     "data": {
      "text/plain": [
       "[('GW',\n",
       "  'GW',\n",
       "  'M',\n",
       "  184.0,\n",
       "  108.0,\n",
       "  None,\n",
       "  28,\n",
       "  None,\n",
       "  None,\n",
       "  None,\n",
       "  1000,\n",
       "  datetime.date(2022, 4, 4))]"
      ]
     },
     "execution_count": 9,
     "metadata": {},
     "output_type": "execute_result"
    }
   ],
   "source": [
    "get_user_logs(\"GW\")"
   ]
  },
  {
   "cell_type": "code",
   "execution_count": 11,
   "metadata": {},
   "outputs": [
    {
     "ename": "ProgrammingError",
     "evalue": "1064 (42000): You have an error in your SQL syntax; check the manual that corresponds to your MySQL server version for the right syntax to use near ',userId,userName,gender,allergySource,birthday,height,weight,fatRate,isVegan,mea' at line 1",
     "output_type": "error",
     "traceback": [
      "\u001b[1;31m---------------------------------------------------------------------------\u001b[0m",
      "\u001b[1;31mMySQLInterfaceError\u001b[0m                       Traceback (most recent call last)",
      "File \u001b[1;32mC:\\Python310\\lib\\site-packages\\mysql\\connector\\connection_cext.py:523\u001b[0m, in \u001b[0;36mCMySQLConnection.cmd_query\u001b[1;34m(self, query, raw, buffered, raw_as_string)\u001b[0m\n\u001b[0;32m    <a href='file:///c%3A/Python310/lib/site-packages/mysql/connector/connection_cext.py?line=521'>522</a>\u001b[0m         query \u001b[39m=\u001b[39m query\u001b[39m.\u001b[39mencode(\u001b[39m'\u001b[39m\u001b[39mutf-8\u001b[39m\u001b[39m'\u001b[39m)\n\u001b[1;32m--> <a href='file:///c%3A/Python310/lib/site-packages/mysql/connector/connection_cext.py?line=522'>523</a>\u001b[0m     \u001b[39mself\u001b[39;49m\u001b[39m.\u001b[39;49m_cmysql\u001b[39m.\u001b[39;49mquery(query,\n\u001b[0;32m    <a href='file:///c%3A/Python310/lib/site-packages/mysql/connector/connection_cext.py?line=523'>524</a>\u001b[0m                        raw\u001b[39m=\u001b[39;49mraw, buffered\u001b[39m=\u001b[39;49mbuffered,\n\u001b[0;32m    <a href='file:///c%3A/Python310/lib/site-packages/mysql/connector/connection_cext.py?line=524'>525</a>\u001b[0m                        raw_as_string\u001b[39m=\u001b[39;49mraw_as_string,\n\u001b[0;32m    <a href='file:///c%3A/Python310/lib/site-packages/mysql/connector/connection_cext.py?line=525'>526</a>\u001b[0m                        query_attrs\u001b[39m=\u001b[39;49m\u001b[39mself\u001b[39;49m\u001b[39m.\u001b[39;49m_query_attrs)\n\u001b[0;32m    <a href='file:///c%3A/Python310/lib/site-packages/mysql/connector/connection_cext.py?line=526'>527</a>\u001b[0m \u001b[39mexcept\u001b[39;00m MySQLInterfaceError \u001b[39mas\u001b[39;00m exc:\n",
      "\u001b[1;31mMySQLInterfaceError\u001b[0m: You have an error in your SQL syntax; check the manual that corresponds to your MySQL server version for the right syntax to use near ',userId,userName,gender,allergySource,birthday,height,weight,fatRate,isVegan,mea' at line 1",
      "\nDuring handling of the above exception, another exception occurred:\n",
      "\u001b[1;31mProgrammingError\u001b[0m                          Traceback (most recent call last)",
      "\u001b[1;32mc:\\Users\\admin\\Documents\\GitHub\\SSW-695-G.zhao-Z.Hu-HZhang-H.jiang\\back_end\\Untitled-1.ipynb Cell 7'\u001b[0m in \u001b[0;36m<cell line: 16>\u001b[1;34m()\u001b[0m\n\u001b[0;32m      <a href='vscode-notebook-cell:/c%3A/Users/admin/Documents/GitHub/SSW-695-G.zhao-Z.Hu-HZhang-H.jiang/back_end/Untitled-1.ipynb#ch0000006?line=0'>1</a>\u001b[0m info\u001b[39m=\u001b[39m{\n\u001b[0;32m      <a href='vscode-notebook-cell:/c%3A/Users/admin/Documents/GitHub/SSW-695-G.zhao-Z.Hu-HZhang-H.jiang/back_end/Untitled-1.ipynb#ch0000006?line=1'>2</a>\u001b[0m \t\n\u001b[0;32m      <a href='vscode-notebook-cell:/c%3A/Users/admin/Documents/GitHub/SSW-695-G.zhao-Z.Hu-HZhang-H.jiang/back_end/Untitled-1.ipynb#ch0000006?line=2'>3</a>\u001b[0m \u001b[39m'\u001b[39m\u001b[39minfoDate\u001b[39m\u001b[39m'\u001b[39m:\u001b[39m'\u001b[39m\u001b[39m2021-09-11\u001b[39m\u001b[39m'\u001b[39m,\n\u001b[1;32m   (...)\u001b[0m\n\u001b[0;32m     <a href='vscode-notebook-cell:/c%3A/Users/admin/Documents/GitHub/SSW-695-G.zhao-Z.Hu-HZhang-H.jiang/back_end/Untitled-1.ipynb#ch0000006?line=12'>13</a>\u001b[0m \u001b[39m'\u001b[39m\u001b[39mmealPlan\u001b[39m\u001b[39m'\u001b[39m: \u001b[39m\"\u001b[39m\u001b[39mkeepHealth\u001b[39m\u001b[39m\"\u001b[39m,\n\u001b[0;32m     <a href='vscode-notebook-cell:/c%3A/Users/admin/Documents/GitHub/SSW-695-G.zhao-Z.Hu-HZhang-H.jiang/back_end/Untitled-1.ipynb#ch0000006?line=13'>14</a>\u001b[0m }\n\u001b[1;32m---> <a href='vscode-notebook-cell:/c%3A/Users/admin/Documents/GitHub/SSW-695-G.zhao-Z.Hu-HZhang-H.jiang/back_end/Untitled-1.ipynb#ch0000006?line=15'>16</a>\u001b[0m update_user_info(\u001b[39m\"\u001b[39;49m\u001b[39mGW\u001b[39;49m\u001b[39m\"\u001b[39;49m,info)\n",
      "File \u001b[1;32mc:\\Users\\admin\\Documents\\GitHub\\SSW-695-G.zhao-Z.Hu-HZhang-H.jiang\\back_end\\functions.py:78\u001b[0m, in \u001b[0;36mupdate_user_info\u001b[1;34m(userId, info)\u001b[0m\n\u001b[0;32m     <a href='file:///c%3A/Users/admin/Documents/GitHub/SSW-695-G.zhao-Z.Hu-HZhang-H.jiang/back_end/functions.py?line=75'>76</a>\u001b[0m info[\u001b[39m'\u001b[39m\u001b[39mBMR\u001b[39m\u001b[39m'\u001b[39m]\u001b[39m=\u001b[39mcal_BMR(info[\u001b[39m'\u001b[39m\u001b[39mgender\u001b[39m\u001b[39m'\u001b[39m],info[\u001b[39m'\u001b[39m\u001b[39mweight\u001b[39m\u001b[39m'\u001b[39m],info[\u001b[39m'\u001b[39m\u001b[39mheight\u001b[39m\u001b[39m'\u001b[39m],age)\n\u001b[0;32m     <a href='file:///c%3A/Users/admin/Documents/GitHub/SSW-695-G.zhao-Z.Hu-HZhang-H.jiang/back_end/functions.py?line=76'>77</a>\u001b[0m info[\u001b[39m'\u001b[39m\u001b[39mfatRate\u001b[39m\u001b[39m'\u001b[39m] \u001b[39m# calculation\u001b[39;00m\n\u001b[1;32m---> <a href='file:///c%3A/Users/admin/Documents/GitHub/SSW-695-G.zhao-Z.Hu-HZhang-H.jiang/back_end/functions.py?line=77'>78</a>\u001b[0m \u001b[39mreturn\u001b[39;00m flask_db_operate\u001b[39m.\u001b[39;49mupdateinTable(tableuserInfo, info, \u001b[39m'\u001b[39;49m\u001b[39muserId\u001b[39;49m\u001b[39m'\u001b[39;49m, userId)\n",
      "File \u001b[1;32mc:\\Users\\admin\\Documents\\GitHub\\SSW-695-G.zhao-Z.Hu-HZhang-H.jiang\\back_end\\flask_db_operate.py:132\u001b[0m, in \u001b[0;36mupdateinTable\u001b[1;34m(tableName, dataDict, colName, colValues)\u001b[0m\n\u001b[0;32m    <a href='file:///c%3A/Users/admin/Documents/GitHub/SSW-695-G.zhao-Z.Hu-HZhang-H.jiang/back_end/flask_db_operate.py?line=129'>130</a>\u001b[0m SQL \u001b[39m=\u001b[39m \u001b[39m\"\u001b[39m\u001b[39mupdate \u001b[39m\u001b[39m%s\u001b[39;00m\u001b[39m set \u001b[39m\u001b[39m%s\u001b[39;00m\u001b[39m = \u001b[39m\u001b[39m%s\u001b[39;00m\u001b[39m where \u001b[39m\u001b[39m%s\u001b[39;00m\u001b[39m = \u001b[39m\u001b[39m%s\u001b[39;00m\u001b[39m\"\u001b[39m\n\u001b[0;32m    <a href='file:///c%3A/Users/admin/Documents/GitHub/SSW-695-G.zhao-Z.Hu-HZhang-H.jiang/back_end/flask_db_operate.py?line=130'>131</a>\u001b[0m RES_SQL \u001b[39m=\u001b[39m SQL \u001b[39m%\u001b[39m (tableName,cols,placeholders,colName,colValues)\n\u001b[1;32m--> <a href='file:///c%3A/Users/admin/Documents/GitHub/SSW-695-G.zhao-Z.Hu-HZhang-H.jiang/back_end/flask_db_operate.py?line=131'>132</a>\u001b[0m mycursor\u001b[39m.\u001b[39;49mexecute(RES_SQL)\n\u001b[0;32m    <a href='file:///c%3A/Users/admin/Documents/GitHub/SSW-695-G.zhao-Z.Hu-HZhang-H.jiang/back_end/flask_db_operate.py?line=132'>133</a>\u001b[0m myresult \u001b[39m=\u001b[39m mycursor\u001b[39m.\u001b[39mfetchone()\n\u001b[0;32m    <a href='file:///c%3A/Users/admin/Documents/GitHub/SSW-695-G.zhao-Z.Hu-HZhang-H.jiang/back_end/flask_db_operate.py?line=133'>134</a>\u001b[0m \u001b[39mif\u001b[39;00m myresult \u001b[39mis\u001b[39;00m \u001b[39mNone\u001b[39;00m:\n",
      "File \u001b[1;32mC:\\Python310\\lib\\site-packages\\mysql\\connector\\cursor_cext.py:269\u001b[0m, in \u001b[0;36mCMySQLCursor.execute\u001b[1;34m(self, operation, params, multi)\u001b[0m\n\u001b[0;32m    <a href='file:///c%3A/Python310/lib/site-packages/mysql/connector/cursor_cext.py?line=264'>265</a>\u001b[0m             \u001b[39mraise\u001b[39;00m errors\u001b[39m.\u001b[39mProgrammingError(\n\u001b[0;32m    <a href='file:///c%3A/Python310/lib/site-packages/mysql/connector/cursor_cext.py?line=265'>266</a>\u001b[0m                 \u001b[39m\"\u001b[39m\u001b[39mNot all parameters were used in the SQL statement\u001b[39m\u001b[39m\"\u001b[39m)\n\u001b[0;32m    <a href='file:///c%3A/Python310/lib/site-packages/mysql/connector/cursor_cext.py?line=267'>268</a>\u001b[0m \u001b[39mtry\u001b[39;00m:\n\u001b[1;32m--> <a href='file:///c%3A/Python310/lib/site-packages/mysql/connector/cursor_cext.py?line=268'>269</a>\u001b[0m     result \u001b[39m=\u001b[39m \u001b[39mself\u001b[39;49m\u001b[39m.\u001b[39;49m_cnx\u001b[39m.\u001b[39;49mcmd_query(stmt, raw\u001b[39m=\u001b[39;49m\u001b[39mself\u001b[39;49m\u001b[39m.\u001b[39;49m_raw,\n\u001b[0;32m    <a href='file:///c%3A/Python310/lib/site-packages/mysql/connector/cursor_cext.py?line=269'>270</a>\u001b[0m                                  buffered\u001b[39m=\u001b[39;49m\u001b[39mself\u001b[39;49m\u001b[39m.\u001b[39;49m_buffered,\n\u001b[0;32m    <a href='file:///c%3A/Python310/lib/site-packages/mysql/connector/cursor_cext.py?line=270'>271</a>\u001b[0m                                  raw_as_string\u001b[39m=\u001b[39;49m\u001b[39mself\u001b[39;49m\u001b[39m.\u001b[39;49m_raw_as_string)\n\u001b[0;32m    <a href='file:///c%3A/Python310/lib/site-packages/mysql/connector/cursor_cext.py?line=271'>272</a>\u001b[0m \u001b[39mexcept\u001b[39;00m MySQLInterfaceError \u001b[39mas\u001b[39;00m exc:\n\u001b[0;32m    <a href='file:///c%3A/Python310/lib/site-packages/mysql/connector/cursor_cext.py?line=272'>273</a>\u001b[0m     \u001b[39mraise\u001b[39;00m errors\u001b[39m.\u001b[39mget_mysql_exception(msg\u001b[39m=\u001b[39mexc\u001b[39m.\u001b[39mmsg, errno\u001b[39m=\u001b[39mexc\u001b[39m.\u001b[39merrno,\n\u001b[0;32m    <a href='file:///c%3A/Python310/lib/site-packages/mysql/connector/cursor_cext.py?line=273'>274</a>\u001b[0m                                      sqlstate\u001b[39m=\u001b[39mexc\u001b[39m.\u001b[39msqlstate)\n",
      "File \u001b[1;32mC:\\Python310\\lib\\site-packages\\mysql\\connector\\connection_cext.py:528\u001b[0m, in \u001b[0;36mCMySQLConnection.cmd_query\u001b[1;34m(self, query, raw, buffered, raw_as_string)\u001b[0m\n\u001b[0;32m    <a href='file:///c%3A/Python310/lib/site-packages/mysql/connector/connection_cext.py?line=522'>523</a>\u001b[0m     \u001b[39mself\u001b[39m\u001b[39m.\u001b[39m_cmysql\u001b[39m.\u001b[39mquery(query,\n\u001b[0;32m    <a href='file:///c%3A/Python310/lib/site-packages/mysql/connector/connection_cext.py?line=523'>524</a>\u001b[0m                        raw\u001b[39m=\u001b[39mraw, buffered\u001b[39m=\u001b[39mbuffered,\n\u001b[0;32m    <a href='file:///c%3A/Python310/lib/site-packages/mysql/connector/connection_cext.py?line=524'>525</a>\u001b[0m                        raw_as_string\u001b[39m=\u001b[39mraw_as_string,\n\u001b[0;32m    <a href='file:///c%3A/Python310/lib/site-packages/mysql/connector/connection_cext.py?line=525'>526</a>\u001b[0m                        query_attrs\u001b[39m=\u001b[39m\u001b[39mself\u001b[39m\u001b[39m.\u001b[39m_query_attrs)\n\u001b[0;32m    <a href='file:///c%3A/Python310/lib/site-packages/mysql/connector/connection_cext.py?line=526'>527</a>\u001b[0m \u001b[39mexcept\u001b[39;00m MySQLInterfaceError \u001b[39mas\u001b[39;00m exc:\n\u001b[1;32m--> <a href='file:///c%3A/Python310/lib/site-packages/mysql/connector/connection_cext.py?line=527'>528</a>\u001b[0m     \u001b[39mraise\u001b[39;00m errors\u001b[39m.\u001b[39mget_mysql_exception(exc\u001b[39m.\u001b[39merrno, msg\u001b[39m=\u001b[39mexc\u001b[39m.\u001b[39mmsg,\n\u001b[0;32m    <a href='file:///c%3A/Python310/lib/site-packages/mysql/connector/connection_cext.py?line=528'>529</a>\u001b[0m                                      sqlstate\u001b[39m=\u001b[39mexc\u001b[39m.\u001b[39msqlstate)\n\u001b[0;32m    <a href='file:///c%3A/Python310/lib/site-packages/mysql/connector/connection_cext.py?line=529'>530</a>\u001b[0m \u001b[39mexcept\u001b[39;00m \u001b[39mAttributeError\u001b[39;00m:\n\u001b[0;32m    <a href='file:///c%3A/Python310/lib/site-packages/mysql/connector/connection_cext.py?line=530'>531</a>\u001b[0m     \u001b[39mif\u001b[39;00m \u001b[39mself\u001b[39m\u001b[39m.\u001b[39m_unix_socket:\n",
      "\u001b[1;31mProgrammingError\u001b[0m: 1064 (42000): You have an error in your SQL syntax; check the manual that corresponds to your MySQL server version for the right syntax to use near ',userId,userName,gender,allergySource,birthday,height,weight,fatRate,isVegan,mea' at line 1"
     ]
    }
   ],
   "source": [
    "info={\n",
    "\t\n",
    "'infoDate':'2021-09-11',\n",
    "'userId':'GW',\n",
    "'userName': \"a\",\n",
    "'gender':'M',\n",
    "'allergySource': ['fish', 'soy'],\n",
    "'birthday': \"1997-04-07\",\n",
    "'height': 184,\n",
    "'weight': 103,\n",
    "'fatRate': 29,\n",
    "'isVegan': False,\t\n",
    "'mealPlan': \"keepHealth\",\n",
    "}\n",
    "\n",
    "update_user_info(\"GW\",info)"
   ]
  },
  {
   "cell_type": "code",
   "execution_count": null,
   "metadata": {},
   "outputs": [],
   "source": [
    "info={\n",
    "\t\n",
    "'infoDate':'2021-09-11',\n",
    "'userId':\"D1324\",\n",
    "'userName': \"a\",\n",
    "'gender':'m',\n",
    "'allergySource': ['fish', 'soy'],\n",
    "'birthday': \"1997-04-07\",\n",
    "'height': 184,\n",
    "'weight': 103,\n",
    "'fatRate': 29,\n",
    "'isVegan':'false',\t\n",
    "'mealPlan': \"keepHealth\",\n",
    "}\n"
   ]
  },
  {
   "cell_type": "code",
   "execution_count": null,
   "metadata": {},
   "outputs": [],
   "source": [
    "update_user_info(\"gw\",info)"
   ]
  }
 ],
 "metadata": {
  "interpreter": {
   "hash": "eb7f93a6330ea8412d1869d4c0b1adf3650307380c2e8540bd18eddbb78ad1c4"
  },
  "kernelspec": {
   "display_name": "Python 3.10.2 64-bit",
   "language": "python",
   "name": "python3"
  },
  "language_info": {
   "codemirror_mode": {
    "name": "ipython",
    "version": 3
   },
   "file_extension": ".py",
   "mimetype": "text/x-python",
   "name": "python",
   "nbconvert_exporter": "python",
   "pygments_lexer": "ipython3",
   "version": "3.10.2"
  },
  "orig_nbformat": 4
 },
 "nbformat": 4,
 "nbformat_minor": 2
}
